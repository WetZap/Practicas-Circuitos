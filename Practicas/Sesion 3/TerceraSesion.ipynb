{
 "cells": [
  {
   "cell_type": "markdown",
   "metadata": {},
   "source": [
    " ---\n",
    " # Prática 2: Analisis en el dominio de la frecuencia, del circuito de primer orden RC serie\n",
    " ---\n",
    "> Autores: Jorge del Rio Lopez, Carlos Gonzalez Garcia y Javier Rodriguez Urbano.\n",
    ">\n",
    "> Fecha:2024-10-29\n",
    ">\n",
    "> Curso 24-45 \n",
    "---\n",
    "<div style=\"text-align: center;\">\n",
    "    <img src=\"https://i.pinimg.com/736x/e8/6c/d4/e86cd4446daa867f88666c90ec10b0d4.jpg\" alt=\"Logo\" style=\"width: 20%;\"/>\n",
    "</div>\n"
   ]
  },
  {
   "cell_type": "markdown",
   "metadata": {},
   "source": [
    "En esta práctica se estudian las configuraciones inversora y no inversora del amplificador operacional, obteniendo valores como la ganancia y estudiando propiedades como la saturación."
   ]
  },
  {
   "cell_type": "code",
   "execution_count": 35,
   "metadata": {},
   "outputs": [],
   "source": [
    "import pandas as pd\n",
    "import numpy as np\n",
    "from matplotlib import pyplot as plt\n",
    "from scipy.optimize import curve_fit\n",
    "Pi = 3.141592653589793"
   ]
  },
  {
   "cell_type": "code",
   "execution_count": 36,
   "metadata": {},
   "outputs": [],
   "source": [
    "xlsx_name=\"P3_PlantillaMedidasEstudiantes.ods\" #Importamos el fichero que contiene los datos."
   ]
  },
  {
   "cell_type": "code",
   "execution_count": 37,
   "metadata": {},
   "outputs": [],
   "source": [
    "#Creamos una funcion para convertir n listas en arrays.\n",
    "def ConverArray3 (lista,lista2,lista3):\n",
    "    return np.array(lista), np.array(lista2),np.array(lista3)\n",
    "def ConverArray2 (lista,lista2):\n",
    "    return np.array(lista), np.array(lista2)"
   ]
  },
  {
   "cell_type": "markdown",
   "metadata": {},
   "source": [
    "---\n",
    "<h1 style=\"text-align: center;\">[P3.C1]</h1>\n",
    "\n",
    "---\n",
    "El modulo y el argumento de la expresiones:\n",
    "\n",
    "$\\~{T_C}\\ =\\ \\dfrac{\\~{V_C}(f)}{\\~{V_s}(f)}\\ =\\ \\dfrac{1}{1+ j\\omega RC}$\n",
    "\n",
    "$\\~{T_R}\\ =\\ \\dfrac{\\~{V_R}(f)}{\\~{V_s}(f)}\\ =\\ \\dfrac{j\\omega RC}{1+ j\\omega RC}$\n",
    "\n",
    "\n",
    "se obtiene de la siguiente forma."
   ]
  },
  {
   "cell_type": "markdown",
   "metadata": {},
   "source": [
    "---\n",
    "<h1 style=\"text-align: center;\">[P3.C2]</h1>\n",
    "\n",
    "---"
   ]
  },
  {
   "cell_type": "markdown",
   "metadata": {},
   "source": [
    "Primero medimos los valores de las resistencias con las que vamos a trabajar."
   ]
  },
  {
   "cell_type": "code",
   "execution_count": 38,
   "metadata": {},
   "outputs": [
    {
     "name": "stdout",
     "output_type": "stream",
     "text": [
      "Las medidas de las resistencias son: \n",
      "R1 Teorico: 2200 Ohms   R1 Práctico: 2190 Ohms\n",
      "R2 Teorico: 2.2e-08 F   R2 Práctico: 2e-07 F\n"
     ]
    }
   ],
   "source": [
    "#Extraemos los valores de las resistencias.\n",
    "DatosResistenciaCondensador = pd.read_excel(xlsx_name,sheet_name='P3C2',usecols='A:B')\n",
    "Rmedida=DatosResistenciaCondensador[\"R\"].tolist()\n",
    "CMedida=DatosResistenciaCondensador[\"C\"].tolist()\n",
    "\n",
    "print(f'Las medidas de las resistencias son: \\nR1 Teorico: {Rmedida[0]} Ohms   R1 Práctico: {Rmedida[1]} Ohms')\n",
    "print(f'R2 Teorico: {CMedida[0]} F   R2 Práctico: {CMedida[1]} F')\n",
    "Rmedida,Cmedida = ConverArray2(Rmedida,CMedida)\n"
   ]
  },
  {
   "cell_type": "markdown",
   "metadata": {},
   "source": [
    "---\n",
    "<h1 style=\"text-align: center;\">[P2.C3]</h1>\n",
    "\n",
    "---\n"
   ]
  },
  {
   "cell_type": "code",
   "execution_count": 39,
   "metadata": {},
   "outputs": [],
   "source": [
    "DatosTarea1 = pd.read_excel(xlsx_name,sheet_name='P3C3',usecols='A:D')#Recogemos los datos del excel.\n",
    "\n",
    "Frecuencia = DatosTarea1[\"FreqHz\"].tolist()\n",
    "VoltajeFuente = DatosTarea1[\"Vfuente\"].tolist()\n",
    "VoltajeC = DatosTarea1[\"Vc\"].tolist()\n",
    "Fase = DatosTarea1[\"dt\"].tolist()"
   ]
  },
  {
   "cell_type": "markdown",
   "metadata": {},
   "source": [
    "---\n",
    "<h1 style=\"text-align: center;\">[P3.C4]</h1>\n",
    "\n",
    "---\n"
   ]
  },
  {
   "cell_type": "markdown",
   "metadata": {},
   "source": [
    "Ahora haremos el diagrama de Bode"
   ]
  },
  {
   "cell_type": "code",
   "execution_count": 40,
   "metadata": {},
   "outputs": [],
   "source": [
    "#Tranformamos las listas en arrays\n",
    "Frecuencia , VoltajeFuente = ConverArray2(Frecuencia,VoltajeFuente)\n",
    "VoltajeC , Fase = ConverArray2(VoltajeC , Fase)\n",
    "\n",
    "FrecuenciaAngular = Frecuencia.copy()*(2*Pi)\n"
   ]
  },
  {
   "cell_type": "markdown",
   "metadata": {},
   "source": [
    "---\n",
    "<h1 style=\"text-align: center;\">[P3.C5]</h1>\n",
    "\n",
    "---"
   ]
  },
  {
   "cell_type": "markdown",
   "metadata": {},
   "source": [
    "---\n",
    "<h1 style=\"text-align: center;\">[P3.C6]</h1>\n",
    "\n",
    "---"
   ]
  },
  {
   "cell_type": "markdown",
   "metadata": {},
   "source": [
    "---\n",
    "<h1 style=\"text-align: center;\">[P3.C7]</h1>\n",
    "\n",
    "---"
   ]
  }
 ],
 "metadata": {
  "kernelspec": {
   "display_name": "Python 3",
   "language": "python",
   "name": "python3"
  },
  "language_info": {
   "codemirror_mode": {
    "name": "ipython",
    "version": 3
   },
   "file_extension": ".py",
   "mimetype": "text/x-python",
   "name": "python",
   "nbconvert_exporter": "python",
   "pygments_lexer": "ipython3",
   "version": "3.12.6"
  }
 },
 "nbformat": 4,
 "nbformat_minor": 2
}
