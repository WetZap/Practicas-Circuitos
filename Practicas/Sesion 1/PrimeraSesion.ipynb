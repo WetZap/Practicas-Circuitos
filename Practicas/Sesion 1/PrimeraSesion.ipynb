{
 "cells": [
  {
   "cell_type": "markdown",
   "metadata": {},
   "source": [
    " ---\n",
    " # Prática 0: Ejemplo Ley de Ohm\n",
    " ---\n",
    "> Autores: \n",
    ">\n",
    "> Fecha:2024-07-18\n",
    ">\n",
    "> Curso 24-45 \n",
    "---"
   ]
  },
  {
   "cell_type": "code",
   "execution_count": 214,
   "metadata": {},
   "outputs": [],
   "source": [
    "import pandas as pd\n",
    "import numpy as np\n",
    "from matplotlib import pyplot as plt\n",
    "from scipy.optimize import curve_fit"
   ]
  },
  {
   "cell_type": "code",
   "execution_count": 215,
   "metadata": {},
   "outputs": [],
   "source": [
    "xlsx_name=\"P1_sesion1_plantillaMedidas.ods\""
   ]
  },
  {
   "cell_type": "code",
   "execution_count": 216,
   "metadata": {},
   "outputs": [
    {
     "name": "stdout",
     "output_type": "stream",
     "text": [
      "Las medidas de las resistencias son: \n",
      "R1 Teorico: 4.7    R1 Práctico: 4.58\n",
      "R2 Teorico: 10.0   R2 Práctico: 9.92\n",
      "R3 Teorico: 2.2    R3 Práctico: 2.14\n",
      "R4 Teorico: 1.5    R4 Práctico: 1.47\n"
     ]
    }
   ],
   "source": [
    "DatosTarea1 = pd.read_excel(xlsx_name,sheet_name='Tarea1',usecols='A:D')\n",
    "Rmedida1=DatosTarea1[\"R1\"].tolist()\n",
    "Rmedida2=DatosTarea1[\"R2\"].tolist()\n",
    "Rmedida3=DatosTarea1[\"R3\"].tolist()\n",
    "Rmedida4=DatosTarea1[\"R4\"].tolist()\n",
    "print(f'Las medidas de las resistencias son: \\nR1 Teorico: {Rmedida1[0]}    R1 Práctico: {Rmedida1[1]}')\n",
    "print(f'R2 Teorico: {Rmedida2[0]}   R2 Práctico: {Rmedida2[1]}')\n",
    "print(f'R3 Teorico: {Rmedida3[0]}    R3 Práctico: {Rmedida3[1]}')\n",
    "print(f'R4 Teorico: {Rmedida4[0]}    R4 Práctico: {Rmedida4[1]}')\n",
    "\n"
   ]
  },
  {
   "cell_type": "markdown",
   "metadata": {
    "notebookRunGroups": {
     "groupValue": "1"
    }
   },
   "source": [
    "Con estos valores de las resistencias y tras montar el cicuito podemos obtener el valor de la resistencia Thevenin de forma practica y teórica.\n",
    "\n",
    "<img alt='Circuito con red muerta' src = 'ResTeorica.png' >\n",
    "\n",
    "Con la red muerta tendríamos que: $R_{12}=\\frac{1}{\\frac{1}{R_1} + \\frac{1}{R_2}}$ y $R_{34} = \\frac{1}{\\frac{1}{R_3} + \\frac{1}{R_4}}$.\n",
    "Al estar estas dos en serie la resistencia equivalente sería la suma de ambas \n"
   ]
  },
  {
   "cell_type": "code",
   "execution_count": 217,
   "metadata": {},
   "outputs": [
    {
     "name": "stdout",
     "output_type": "stream",
     "text": [
      "Las medidas de las resistencias de Thevenin son: \n",
      "Rab Teorico: 4.09    Rab Práctico: 4.0\n"
     ]
    }
   ],
   "source": [
    "DatosTarea1 = pd.read_excel(xlsx_name,sheet_name='Tarea1',usecols='E')\n",
    "\n",
    "Rmedida5 = DatosTarea1['Rab'].tolist()\n",
    "print(f'Las medidas de las resistencias de Thevenin son: \\nRab Teorico: {Rmedida5[0]}    Rab Práctico: {Rmedida5[1]}')"
   ]
  },
  {
   "cell_type": "markdown",
   "metadata": {},
   "source": [
    "Para calcular el voltaje Thevenin \n",
    "\n",
    "\n",
    "\n"
   ]
  },
  {
   "cell_type": "code",
   "execution_count": 218,
   "metadata": {},
   "outputs": [
    {
     "name": "stdout",
     "output_type": "stream",
     "text": [
      "Las medidas de los voltajes de Thevenin son: \n",
      "Vab Teorico: 3.29    Vab Práctico: 3.27\n"
     ]
    }
   ],
   "source": [
    "DatosTarea1 = pd.read_excel(xlsx_name,sheet_name='Tarea1',usecols='G')\n",
    "\n",
    "Voltajes = DatosTarea1['Vab'].tolist()\n",
    "print(f'Las medidas de los voltajes de Thevenin son: \\nVab Teorico: {Voltajes[0]}    Vab Práctico: {Voltajes[1]}')"
   ]
  },
  {
   "cell_type": "markdown",
   "metadata": {},
   "source": [
    "Tras colocar el potenciomentro\n",
    "\n",
    "\n"
   ]
  },
  {
   "cell_type": "code",
   "execution_count": 219,
   "metadata": {},
   "outputs": [
    {
     "name": "stdout",
     "output_type": "stream",
     "text": [
      "El voltaje Thevenini anterior es: 3.29. Diviendolo entre dos obtenemos el voltaje: 1.63, con el cual obtenemos una resistencia de: 4.0\n"
     ]
    }
   ],
   "source": [
    "DatosTarea1 = pd.read_excel(xlsx_name,sheet_name='Tarea1',usecols='G')\n",
    "DatosTarea2 = pd.read_excel(xlsx_name,sheet_name='Tarea2',usecols='A:B')\n",
    "\n",
    "Voltaje1 = DatosTarea1['Vab'].tolist()\n",
    "Voltaje2 = DatosTarea2['Vab']\n",
    "Rpotenciometro = DatosTarea2['Rpotenciometro']\n",
    "\n",
    "print(f'El voltaje Thevenini anterior es: {Voltaje1[0]}. Diviendolo entre dos obtenemos el voltaje: {Voltaje2[0]}, con el cual obtenemos una resistencia de: {Rpotenciometro[0]}')\n"
   ]
  }
 ],
 "metadata": {
  "kernelspec": {
   "display_name": "Python 3",
   "language": "python",
   "name": "python3"
  },
  "language_info": {
   "codemirror_mode": {
    "name": "ipython",
    "version": 3
   },
   "file_extension": ".py",
   "mimetype": "text/x-python",
   "name": "python",
   "nbconvert_exporter": "python",
   "pygments_lexer": "ipython3",
   "version": "3.12.6"
  }
 },
 "nbformat": 4,
 "nbformat_minor": 2
}
