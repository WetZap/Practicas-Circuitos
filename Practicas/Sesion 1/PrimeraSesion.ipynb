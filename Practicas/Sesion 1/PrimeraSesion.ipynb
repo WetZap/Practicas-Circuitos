{
 "cells": [
  {
   "cell_type": "markdown",
   "metadata": {},
   "source": [
    " ---\n",
    " # Prática 0: Ejemplo Ley de Ohm\n",
    " ---\n",
    "> Autores: \n",
    ">\n",
    "> Fecha:2024-07-18\n",
    ">\n",
    "> Curso 24-45 \n",
    "---"
   ]
  },
  {
   "cell_type": "code",
   "execution_count": 11,
   "metadata": {},
   "outputs": [],
   "source": [
    "import pandas as pd\n",
    "import numpy as np\n",
    "from matplotlib import pyplot as plt\n",
    "from scipy.optimize import curve_fit"
   ]
  },
  {
   "cell_type": "code",
   "execution_count": 12,
   "metadata": {},
   "outputs": [],
   "source": [
    "xlsx_name=\"P1_sesion1_plantillaMedidas.ods\""
   ]
  },
  {
   "cell_type": "code",
   "execution_count": 13,
   "metadata": {},
   "outputs": [
    {
     "name": "stdout",
     "output_type": "stream",
     "text": [
      "Rmedida= 4.58\n"
     ]
    }
   ],
   "source": [
    "DatosTarea1 = pd.read_excel(xlsx_name,sheet_name='Tarea1')\n",
    "Rmedida=DatosTarea1[\"R1\"][1]\n",
    "print(\"Rmedida=\",Rmedida)"
   ]
  }
 ],
 "metadata": {
  "kernelspec": {
   "display_name": "base",
   "language": "python",
   "name": "python3"
  },
  "language_info": {
   "codemirror_mode": {
    "name": "ipython",
    "version": 3
   },
   "file_extension": ".py",
   "mimetype": "text/x-python",
   "name": "python",
   "nbconvert_exporter": "python",
   "pygments_lexer": "ipython3",
   "version": "3.11.7"
  }
 },
 "nbformat": 4,
 "nbformat_minor": 2
}
