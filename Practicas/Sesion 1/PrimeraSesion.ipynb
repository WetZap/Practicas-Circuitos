{
 "cells": [
  {
   "cell_type": "markdown",
   "metadata": {},
   "source": [
    " ---\n",
    " # Prática 1: Teorema de Thevenin\n",
    " ---\n",
    "> Autores: Jorge del Río López, Carlos González García y Javier Rodríguez Urbano.\n",
    ">\n",
    "> Fecha:2024-10-21\n",
    ">\n",
    "> Curso 24-45 \n",
    "---\n",
    "<div style=\"text-align: center;\">\n",
    "    <img src=\"https://i.pinimg.com/736x/e8/6c/d4/e86cd4446daa867f88666c90ec10b0d4.jpg\" alt=\"Logo\" style=\"width: 20%;\"/>\n",
    "</div>\n"
   ]
  },
  {
   "cell_type": "code",
   "execution_count": null,
   "metadata": {},
   "outputs": [
    {
     "ename": "",
     "evalue": "",
     "output_type": "error",
     "traceback": [
      "\u001b[1;31mRunning cells with 'Python 3.12.2' requires the ipykernel package.\n",
      "\u001b[1;31mRun the following command to install 'ipykernel' into the Python environment. \n",
      "\u001b[1;31mCommand: '/opt/homebrew/bin/python3 -m pip install ipykernel -U --user --force-reinstall'"
     ]
    }
   ],
   "source": [
    "import pandas as pd\n",
    "import numpy as np\n",
    "from matplotlib import pyplot as plt\n",
    "from scipy.optimize import curve_fit"
   ]
  },
  {
   "cell_type": "code",
   "execution_count": 1709,
   "metadata": {},
   "outputs": [],
   "source": [
    "xlsx_name=\"P1_sesion1_plantillaMedidas.ods\""
   ]
  },
  {
   "cell_type": "markdown",
   "metadata": {},
   "source": [
    "---\n",
    "<h1 style=\"text-align: center;\">[P1.C1]</h1>\n",
    "\n",
    "---"
   ]
  },
  {
   "cell_type": "code",
   "execution_count": null,
   "metadata": {},
   "outputs": [],
   "source": [
    "DatosTarea1 = pd.read_excel(xlsx_name,sheet_name='Tarea1',usecols='A:D')\n",
    "Rmedida1=DatosTarea1[\"R1\"].tolist()\n",
    "Rmedida2=DatosTarea1[\"R2\"].tolist()\n",
    "Rmedida3=DatosTarea1[\"R3\"].tolist()\n",
    "Rmedida4=DatosTarea1[\"R4\"].tolist()\n",
    "print(f'Las medidas de las resistencias son: \\n R1 Teórico: {Rmedida1[0]} KOhms   R1 Práctico: {Rmedida1[1]} KOhms')\n",
    "print(fr'R2 Teórico: {Rmedida2[0]} KOhms   R2 Práctico: {Rmedida2[1]} KOhms')\n",
    "print(fr'R3 Teórico: {Rmedida3[0]} KOhms   R3 Práctico: {Rmedida3[1]} KOhms')\n",
    "print(fr'R4 Teórico: {Rmedida4[0]} KOhms   R4 Práctico: {Rmedida4[1]} KOhms')\n",
    "\n"
   ]
  },
  {
   "cell_type": "markdown",
   "metadata": {
    "notebookRunGroups": {
     "groupValue": "1"
    }
   },
   "source": [
    "Con estos valores de las resistencias y tras montar el cicuito podemos obtener el valor de la resistencia Thevenin de forma práctica y teórica.\n",
    "\n",
    "<img src=\"https://i.pinimg.com/736x/12/45/38/124538b15bb31a5ed313ca75d36df987.jpg\" alt=\"Circuito con red muerta\" style=\"width: 20%;\"/>\n",
    "\n",
    "Con la red muerta tendríamos que: $R_{12}=\\dfrac{1}{\\dfrac{1}{R_1} + \\dfrac{1}{R_2}}$ y $R_{34} = \\dfrac{1}{\\dfrac{1}{R_3} + \\dfrac{1}{R_4}}$.\n",
    "Al estar estas dos en serie la resistencia equivalente sería la suma de ambas:\n",
    "\n",
    " $R_{th} = R_{12} + R_{34}= 3.197 + 0.891 (\\Omega)$\n"
   ]
  },
  {
   "cell_type": "code",
   "execution_count": null,
   "metadata": {},
   "outputs": [],
   "source": [
    "DatosTarea1 = pd.read_excel(xlsx_name,sheet_name='Tarea1',usecols='E')\n",
    "\n",
    "Rmedida5 = DatosTarea1['Rab'].tolist()\n",
    "print(f'Las medidas de las resistencias de Thevenin son: \\nRab Teorico: {Rmedida5[0]} KOhms   Rab Práctico: {Rmedida5[1]} KOhms.')"
   ]
  },
  {
   "cell_type": "markdown",
   "metadata": {},
   "source": [
    "Para calcular el voltaje Thevenin con la red muerta:\n",
    "\n",
    "<img src=\"https://i.pinimg.com/736x/12/45/38/124538b15bb31a5ed313ca75d36df987.jpg\" alt=\"Circuito con red muerta\" style=\"width: 20%;\"/>\n",
    "\n",
    "\n",
    "Podemos calcular el voltaje de cada resistencia usando la fórmula del divisor de tensión,tanto como para 1-2 y 3-4.\n",
    "\n",
    "$V_{12} = Vin\\ \\dfrac{R_2}{R_2+R_1}$\n",
    "\n",
    "$V_{34} = Vin\\ \\dfrac{R_4}{R_3+R_4}$\n",
    "\n",
    "Llegando, finalmente, a la expresión del voltaje Thevenin (siendo $V_{in} = 12\\ $(V)):\n",
    "\n",
    "$V_{th} = V_{12} - V_{34}\\ =\\ 8.16 - 4.86\\ (V)$\n",
    "\n",
    "\n",
    "\n"
   ]
  },
  {
   "cell_type": "code",
   "execution_count": null,
   "metadata": {},
   "outputs": [],
   "source": [
    "DatosTarea1 = pd.read_excel(xlsx_name,sheet_name='Tarea1',usecols='G')\n",
    "\n",
    "Voltajes = DatosTarea1['Vab'].tolist()\n",
    "print(f'Las medidas de los voltajes de Thevenin son: \\nVab Teorico: {Voltajes[0]} V   Vab Práctico: {Voltajes[1]} V.')"
   ]
  },
  {
   "cell_type": "markdown",
   "metadata": {},
   "source": [
    "---\n",
    "<h1 style=\"text-align: center;\">[P1.C2]</h1>\n",
    "\n",
    "---\n",
    "Los valores de las resistencia de Thevenin son:\n",
    "\n",
    "$R_{ab}\\ = 4.00\\ k\\Omega $\n",
    "\n",
    "$R_{th}\\ = 4.09\\ k\\Omega$\n",
    "\n",
    "Siendo $R_{ab}$ el valor experimental y $R_{th}$ el valor teórico."
   ]
  },
  {
   "cell_type": "markdown",
   "metadata": {},
   "source": [
    "---\n",
    "<h1 style=\"text-align: center;\">[P1.C3]</h1>\n",
    "\n",
    "---\n",
    "Los valores de los voltajes de Thevenin son:\n",
    "\n",
    "$V_{ab}\\ = 3.27\\ V$\n",
    "\n",
    "$V_{th}\\ = 3.29\\ V$\n",
    "\n",
    "Siendo $V_{ab}$ el valor experimental y $V_{th}$ el valor teórico."
   ]
  },
  {
   "cell_type": "markdown",
   "metadata": {},
   "source": [
    "---\n",
    "<h1 style=\"text-align: center;\">[P1.C4]</h1>\n",
    "\n",
    "---\n",
    "Tras colocar el potenciómetro, variamos su valor hasta que con el polímetro podemos medir la mitad de $V_{th}$.\n",
    "\n",
    "\n"
   ]
  },
  {
   "cell_type": "code",
   "execution_count": null,
   "metadata": {},
   "outputs": [],
   "source": [
    "DatosTarea1 = pd.read_excel(xlsx_name,sheet_name='Tarea1',usecols='G')\n",
    "DatosTarea2 = pd.read_excel(xlsx_name,sheet_name='Tarea2',usecols='A:B')\n",
    "\n",
    "Voltaje1 = DatosTarea1['Vab'].tolist()\n",
    "Voltaje2 = DatosTarea2['Vab']\n",
    "Rpotenciometro = DatosTarea2['Rpotenciometro']\n",
    "\n",
    "print(fr'El voltaje Thevenin anterior es: {Voltaje1[0]} (V). Diviendolo entre dos obtenemos el voltajeab: {Voltaje2[0]} (V), con el cual obtenemos una resistencia de: {Rpotenciometro[0]} KOhms.')\n"
   ]
  },
  {
   "cell_type": "markdown",
   "metadata": {},
   "source": [
    "Como se puede observar el valor de la resistencia del potenciómetro coincide con la resistencia Thevenin."
   ]
  },
  {
   "cell_type": "markdown",
   "metadata": {},
   "source": [
    "---\n",
    "<h1 style=\"text-align: center;\">[P1.C5]</h1>\n",
    "\n",
    "---\n",
    "Usamos dos polímetros para medir el voltaje y la intensidad entre los terminales a y b, variando la resistencia del potenciómetro.\n",
    "Con una $V_{in}=12$ (V) variamos la resistencia del potenciómetro desde su valor máximo hasta su valor mínimo apuntando los valores respectivos de $V_{ab}$ e $I_{ab}$.\n",
    "\n",
    "Encontramos los valores de $V_{ab}$ e $I_{ab}$ en [P1.C6]."
   ]
  },
  {
   "cell_type": "code",
   "execution_count": null,
   "metadata": {},
   "outputs": [],
   "source": [
    "#Tomamos el valor del Voltaje Thevenin que anteriormente hemos extraido.\n",
    "VoltajeThevenin = Voltaje2[0]\n",
    "DatosTarea3 = pd.read_excel(xlsx_name,sheet_name='Tarea3',usecols='A:B')#Cargamos las columnas que vamos a usar.\n",
    "#Practico\n",
    "VoltajeAB = DatosTarea3['Vab'].tolist()\n",
    "IntensidadAB = DatosTarea3['Iab'].tolist()\n",
    "RTV = Rmedida5[1]\n",
    "\n",
    "#Teorico\n",
    "RTVTeo = Rmedida5[0]\n",
    "VoltajeTeo = Voltaje1[0]\n",
    "\n",
    "#Transformamos los vectores con numpy en arrays\n",
    "VoltajeAB = np.array(VoltajeAB)\n",
    "IntensidadAB = np.array(IntensidadAB)*1e-3\n",
    "print(f'Intensidades = {IntensidadAB} A.')\n",
    "print(f' Voltajes = {VoltajeAB} V.')\n",
    "print(f'Resistencia Thevenin = {RTV} KOhms.')\n"
   ]
  },
  {
   "cell_type": "code",
   "execution_count": null,
   "metadata": {},
   "outputs": [],
   "source": [
    "#Ponemos los datos en una tabla.\n",
    "data = {'I[A]': IntensidadAB,\n",
    "        'V[V]': VoltajeAB}\n",
    "df = pd.DataFrame(data)\n",
    "print(f'Datos:\\n{df}\\n')\n",
    "# Realizamos el ajuste lineal con np.polyfit\n",
    "print('Datos ajuste: ',end='')\n",
    "[slope, intercept], r = np.polyfit(IntensidadAB,VoltajeAB,deg=1,cov=True)\n",
    "print(\"R=\", slope,\"\\nOrdenada en el origen: \", intercept,\"\\n coorel coef=\",r)\n",
    "\n",
    "# Crear una función para la línea ajustada\n",
    "def ajuste_lineal(x):\n",
    "    return intercept + slope * x\n",
    "\n",
    "# Graficamos los datos y el ajuste lineal\n",
    "plt.scatter(IntensidadAB, VoltajeAB, label='Datos', color='blue')\n",
    "plt.plot(IntensidadAB, ajuste_lineal(IntensidadAB), color='red', label=fr'Ajuste: $V_{{ab}}$ = {intercept:.2f} V + ({slope:.2f}) $\\Omega$ $I_{{ab}}$')\n",
    "plt.xlabel('I[A]')\n",
    "plt.ylabel('V[V]')\n",
    "plt.title('Ajuste Lineal de la Intensidad y el Voltaje')\n",
    "plt.legend(bbox_to_anchor=(1.04, 1), loc=\"upper left\")\n",
    "plt.show()"
   ]
  },
  {
   "cell_type": "markdown",
   "metadata": {},
   "source": [
    "---\n",
    "<h1 style=\"text-align: center;\">[P1.C7]</h1>\n",
    "\n",
    "---\n",
    "Ahora haremos una gráfica que comparará el valor teórico y el experimental medidos en [P1.C6]."
   ]
  },
  {
   "cell_type": "code",
   "execution_count": 1716,
   "metadata": {},
   "outputs": [],
   "source": [
    "Rfit=slope\n",
    "\n",
    "Vfit0=intercept\n",
    "\n",
    "#Genero un vector de intensidades dentro del rango medido\n",
    "Ifit=np.linspace(0,0.0008,40)\n",
    "\n",
    "#A partir de los parámetros ajustados genero el volaje\n",
    "Vfit=Vfit0+Ifit*Rfit\n",
    "\n",
    "Rteo=RTVTeo*1e3\n",
    "Iteo=np.linspace(0,0.0008,50)\n",
    "Vteo=VoltajeTeo-Iteo*Rteo"
   ]
  },
  {
   "cell_type": "code",
   "execution_count": null,
   "metadata": {},
   "outputs": [],
   "source": [
    "plt.figure(figsize=(8, 4.5), dpi=130)\n",
    "plt.title(\"Comparativa\", fontdict = {'family':'serif','color':'steelblue','size':16})\n",
    "plt.scatter(0, VoltajeTeo, color=\"black\", s=100, label=\"Corte con la Ordenada\")\n",
    "plt.plot(Iteo,Vteo, color=\"r\", lw=5,label=\"Teórica\")\n",
    "plt.plot(Ifit,Vfit, color=\"green\",dashes=[0.5, 0.5],lw=3,label=fr\"Ajuste: $R_{{th}}=$ {round(Rfit,2)}$\\Omega$, $V_{{th}}=$ {round(Vfit0,2)}V\")\n",
    "plt.plot(IntensidadAB,VoltajeAB, color=\"b\",ls=\"\",marker='x',ms=10,markeredgewidth=2,label=\"Medidas\")\n",
    "plt.xlabel(r\"$I$ [A]\")\n",
    "plt.ylabel(r\"$V$ [V]\")\n",
    "plt.legend(bbox_to_anchor=(1.04, 1), loc=\"upper left\")\n",
    "plt.grid()\n",
    "plt.show()"
   ]
  },
  {
   "cell_type": "markdown",
   "metadata": {},
   "source": [
    "---\n",
    "<h1 style=\"text-align: center;\">[P1.C8]</h1>\n",
    "\n",
    "---\n",
    "Mostramos ahora las tablas relacionadas con a los voltajes y resistencias Thevenin correspondientes a P1.C2, P1.C3, P1.C4 y P1.C5\n"
   ]
  },
  {
   "cell_type": "code",
   "execution_count": null,
   "metadata": {},
   "outputs": [],
   "source": [
    "VoltajeError = []\n",
    "ResError =[]\n",
    "\n",
    "VoltajeExp = [\"---\" , Voltajes[1],\"---\",Vfit0.round(4)]\n",
    "VoltajeTeo = [\"---\",Voltajes[0],\"---\",VoltajeTeo]\n",
    "for i in range(0,len(VoltajeExp)):\n",
    "    if VoltajeTeo[i] != 0 and VoltajeTeo[i] !='---': \n",
    "        Error = (abs(VoltajeExp[i]-VoltajeTeo[i])/abs(VoltajeTeo[i]))*100\n",
    "        Error = round(Error,4)\n",
    "        VoltajeError.append(Error)\n",
    "    else:\n",
    "        VoltajeError.append('---')\n",
    "\n",
    "ResExp =[Rmedida5[1],\"---\",Rpotenciometro[0],RTV]\n",
    "ResTeo = [Rmedida5[0],\"---\",Rmedida5[0],Rteo/1e3]\n",
    "for i in range(0,len(ResExp)):\n",
    "    if ResTeo[i] != 0 and ResTeo[i] !='---': \n",
    "        Error = ((abs(ResExp[i]-ResTeo[i])/abs(ResTeo[i]))*100)\n",
    "        Error = round(Error,4)\n",
    "        ResError.append(Error)\n",
    "    else:\n",
    "        ResError.append('---')\n",
    "\n",
    "VoltajeExp=np.array(VoltajeExp)\n",
    "ResExp=np.array(ResExp)\n",
    "VoltajeTeo = np.array(VoltajeTeo)\n",
    "ResExp = np.array(ResExp)\n",
    "ResError = np.array(ResError)\n",
    "VoltajeError = np.array(VoltajeError)\n",
    "\n",
    "data = {\n",
    "    'V_Exp (v)': VoltajeExp,\n",
    "    \"V_Teo (v)\": VoltajeTeo,\n",
    "    'Error Voltaje': VoltajeError,\n",
    "    \"R_Exp (KOhms)\": ResExp,\n",
    "    \"R_Teo (KOhms)\": ResTeo,\n",
    "    \"Error Resi.$\": ResError\n",
    "}\n",
    "# Crear el DataFrame con los nombres de las columnas en formato LaTeX\n",
    "df = pd.DataFrame(data)\n",
    "df.index = ['C2', 'C3', 'C4', 'C5']\n",
    "# Mostrar el DataFrame\n",
    "print(df.T)"
   ]
  },
  {
   "cell_type": "markdown",
   "metadata": {},
   "source": [
    "Se puede observar como el error relativo de todas las medidas es aceptable. El error es mayor en las resistencias, para las que obtenemos un valor alrededor del 2%. Tenemos por tanto instrumentos de medida bastante precisos."
   ]
  }
 ],
 "metadata": {
  "kernelspec": {
   "display_name": "Python 3",
   "language": "python",
   "name": "python3"
  },
  "language_info": {
   "codemirror_mode": {
    "name": "ipython",
    "version": 3
   },
   "file_extension": ".py",
   "mimetype": "text/x-python",
   "name": "python",
   "nbconvert_exporter": "python",
   "pygments_lexer": "ipython3",
   "version": "3.12.2"
  }
 },
 "nbformat": 4,
 "nbformat_minor": 2
}
